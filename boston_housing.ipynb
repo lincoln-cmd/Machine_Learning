{
 "cells": [
  {
   "cell_type": "code",
   "execution_count": 1,
   "metadata": {},
   "outputs": [
    {
     "name": "stdout",
     "output_type": "stream",
     "text": [
      "(404, 13) (102, 13)\n",
      "[ 67.14530523  63.67943594  59.46101754  70.40736877  69.92564732\n",
      "  64.2237655   28.01834019  66.73090037  61.34988073 383.81097507\n",
      "  52.09365496 298.93801008  57.9207784 ]\n"
     ]
    }
   ],
   "source": [
    "from tensorflow.keras.datasets.boston_housing import load_data\n",
    "\n",
    "(x_train, t_train), (x_test, t_test) = load_data(path = 'boston_housing.npz',\n",
    "                                               test_split = 0.2,\n",
    "                                               seed = 777)\n",
    "\n",
    "# 데이터 전처리, 검증 데이터 셋 만들기\n",
    "\n",
    "# 모델 구성\n",
    "print(x_train.shape, x_test.shape)\n",
    "import matplotlib.pyplot as plt\n",
    "import numpy as np\n",
    "np.random.seed(777)\n",
    "\n",
    "population_mean = x_train.mean()\n",
    "n = len(x_train)\n",
    "x_train_sum = 0\n",
    "for i in range(n):\n",
    "    x_train_sum += (x_train[i] - population_mean)**2\n",
    "population_variance = x_train_sum / n\n",
    "population_standard = np.sqrt(population_variance)\n",
    "\n",
    "print(population_standard)\n",
    "\n",
    "# 64 -> 32 -> 1\n",
    "\n",
    "\n",
    "# 컴파일(optimizer='adam', loss='mse', metrics=['acc'])\n",
    "\n",
    "\n",
    "# 학습, 평가하기\n"
   ]
  },
  {
   "cell_type": "code",
   "execution_count": 13,
   "metadata": {},
   "outputs": [
    {
     "name": "stdout",
     "output_type": "stream",
     "text": [
      "std : [1.19112568 1.1491123  1.03433877 1.20267559 1.094334   0.98154407\n",
      " 1.16458724 1.06936826 0.98756248 1.00583666 1.03419554 0.58385536\n",
      " 1.16798897], mean : [ 0.09994568  0.00839262  0.0714012   0.13363062 -0.02560213 -0.17508329\n",
      " -0.13433186  0.17190383  0.00423394  0.02724853 -0.24574454  0.13433118\n",
      "  0.14194381]\n",
      "102/102 [==============================] - 0s 471us/sample - loss: 648.1747 - mae: 23.7557\n"
     ]
    },
    {
     "data": {
      "text/plain": [
       "[648.1747047573913, 23.755716]"
      ]
     },
     "execution_count": 13,
     "metadata": {},
     "output_type": "execute_result"
    }
   ],
   "source": [
    "mean = np.mean(x_train, axis=0)\n",
    "std = np.std(x_train, axis=0)\n",
    "\n",
    "x_train = (x_train - mean) / std\n",
    "x_test = (x_test - mean) / std\n",
    "\n",
    "\n",
    "print('std : {0}, mean : {1}'.format(std, mean))\n",
    "\n",
    "from sklearn.model_selection import train_test_split\n",
    "\n",
    "\n",
    "\n",
    "x_train, x_val, t_train, t_val = train_test_split(x_train, t_train,\n",
    "                                                 test_size=0.33,\n",
    "                                                 random_state = 777)\n",
    "\n",
    "\n",
    "\n",
    "\n",
    "from tensorflow.keras.models import Sequential\n",
    "from tensorflow.keras.layers import Dense\n",
    "\n",
    "model = Sequential()\n",
    "\n",
    "model.add(Dense(64, activation='relu', input_shape=(13,)))\n",
    "model.add(Dense(32, activation='relu'))\n",
    "model.add(Dense(1))\n",
    "\n",
    "model.compile(optimizer='adam', loss='mse', metrics=['mae'])\n",
    "\n",
    "# history = model.fit(x_train,t_train, epochs=300,\n",
    "#                    validation_data = (x_val, t_val))\n",
    "\n",
    "model.evaluate(x_test, t_test)"
   ]
  },
  {
   "cell_type": "code",
   "execution_count": 43,
   "metadata": {},
   "outputs": [
    {
     "name": "stdout",
     "output_type": "stream",
     "text": [
      "442 442\n",
      "[[ 0.03807591  0.05068012  0.06169621  0.02187235 -0.0442235  -0.03482076\n",
      "  -0.04340085 -0.00259226  0.01990842 -0.01764613]\n",
      " [-0.00188202 -0.04464164 -0.05147406 -0.02632783 -0.00844872 -0.01916334\n",
      "   0.07441156 -0.03949338 -0.06832974 -0.09220405]\n",
      " [ 0.08529891  0.05068012  0.04445121 -0.00567061 -0.04559945 -0.03419447\n",
      "  -0.03235593 -0.00259226  0.00286377 -0.02593034]\n",
      " [-0.08906294 -0.04464164 -0.01159501 -0.03665645  0.01219057  0.02499059\n",
      "  -0.03603757  0.03430886  0.02269202 -0.00936191]\n",
      " [ 0.00538306 -0.04464164 -0.03638469  0.02187235  0.00393485  0.01559614\n",
      "   0.00814208 -0.00259226 -0.03199144 -0.04664087]\n",
      " [-0.09269548 -0.04464164 -0.04069594 -0.01944209 -0.06899065 -0.07928784\n",
      "   0.04127682 -0.0763945  -0.04118039 -0.09634616]\n",
      " [-0.04547248  0.05068012 -0.04716281 -0.01599922 -0.04009564 -0.02480001\n",
      "   0.00077881 -0.03949338 -0.06291295 -0.03835666]\n",
      " [ 0.06350368  0.05068012 -0.00189471  0.06662967  0.09061988  0.10891438\n",
      "   0.02286863  0.01770335 -0.03581673  0.00306441]\n",
      " [ 0.04170844  0.05068012  0.06169621 -0.04009932 -0.01395254  0.00620169\n",
      "  -0.02867429 -0.00259226 -0.01495648  0.01134862]\n",
      " [-0.07090025 -0.04464164  0.03906215 -0.03321358 -0.01257658 -0.03450761\n",
      "  -0.02499266 -0.00259226  0.06773633 -0.01350402]]\n",
      "\n",
      "\n",
      "\n",
      "\n",
      "\n",
      "\n",
      "\n",
      "\n",
      "\n",
      "[151.  75. 141. 206. 135.  97. 138.  63. 110. 310.]\n",
      "[ 0.70873731  0.84724569 -4.68586815 -0.57047431 -0.60004843]\n"
     ]
    }
   ],
   "source": [
    "from sklearn import datasets, linear_model\n",
    "from sklearn.model_selection import cross_val_score\n",
    "diabetes = datasets.load_diabetes()\n",
    "print(len(diabetes.target), len(diabetes.data))\n",
    "X = diabetes.data[:10]\n",
    "y = diabetes.target[:10]\n",
    "lasso = linear_model.Lasso()\n",
    "\n",
    "print(X[:10])\n",
    "print('\\n'+'\\n'+'\\n'+'\\n'+'\\n'+'\\n'+'\\n'+'\\n')\n",
    "print(y[:10])\n",
    "\n",
    "print(cross_val_score(lasso, X, y, cv = 5))"
   ]
  },
  {
   "cell_type": "code",
   "execution_count": 54,
   "metadata": {},
   "outputs": [
    {
     "name": "stdout",
     "output_type": "stream",
     "text": [
      "GroupKFold(n_splits=2)\n",
      "TRAIN : [0 1] TEST [2 3]\n",
      "[[1 2]\n",
      " [3 4]] [[5 6]\n",
      " [7 8]] [1 2] [3 4]\n",
      "TRAIN : [2 3] TEST [0 1]\n",
      "[[5 6]\n",
      " [7 8]] [[1 2]\n",
      " [3 4]] [3 4] [1 2]\n"
     ]
    }
   ],
   "source": [
    "import numpy as np\n",
    "from sklearn.model_selection import GroupKFold\n",
    "x = np.array([[1,2],[3,4],[5,6],[7,8]])\n",
    "y = np.array([1,2,3,4])\n",
    "groups = np.array([0,0,2,2])\n",
    "group_kfold = GroupKFold(n_splits = 2)\n",
    "group_kfold.get_n_splits(x, y, groups)\n",
    "print(group_kfold)\n",
    "\n",
    "for train_index, test_index in group_kfold.split(x,y,groups):\n",
    "    print('TRAIN :', train_index, 'TEST', test_index)\n",
    "    x_train, x_test = x[train_index], x[test_index]\n",
    "    y_train, y_test = y[train_index], y[test_index]\n",
    "    print(x_train, x_test, y_train, y_test)\n",
    "    "
   ]
  },
  {
   "cell_type": "code",
   "execution_count": 62,
   "metadata": {
    "scrolled": true
   },
   "outputs": [
    {
     "name": "stderr",
     "output_type": "stream",
     "text": [
      "C:\\Users\\sbs\\anaconda3\\envs\\tensorflow\\lib\\site-packages\\sklearn\\model_selection\\_split.py:297: FutureWarning: Setting a random_state has no effect since shuffle is False. This will raise an error in 0.24. You should leave random_state to its default (None), or set shuffle=True.\n",
      "  FutureWarning\n"
     ]
    },
    {
     "ename": "ValueError",
     "evalue": "Cannot have number of splits n_splits=3 greater than the number of samples: n_samples=2.",
     "output_type": "error",
     "traceback": [
      "\u001b[1;31m---------------------------------------------------------------------------\u001b[0m",
      "\u001b[1;31mValueError\u001b[0m                                Traceback (most recent call last)",
      "\u001b[1;32m<ipython-input-62-93b6ca75b437>\u001b[0m in \u001b[0;36m<module>\u001b[1;34m\u001b[0m\n\u001b[0;32m     20\u001b[0m \u001b[1;33m\u001b[0m\u001b[0m\n\u001b[0;32m     21\u001b[0m \u001b[1;31m# k번 진행\u001b[0m\u001b[1;33m\u001b[0m\u001b[1;33m\u001b[0m\u001b[1;33m\u001b[0m\u001b[0m\n\u001b[1;32m---> 22\u001b[1;33m \u001b[1;32mfor\u001b[0m \u001b[0mtrain_index\u001b[0m\u001b[1;33m,\u001b[0m \u001b[0mval_index\u001b[0m \u001b[1;32min\u001b[0m \u001b[0mkfold\u001b[0m\u001b[1;33m.\u001b[0m\u001b[0msplit\u001b[0m\u001b[1;33m(\u001b[0m\u001b[0mx_train\u001b[0m\u001b[1;33m)\u001b[0m\u001b[1;33m:\u001b[0m\u001b[1;33m\u001b[0m\u001b[1;33m\u001b[0m\u001b[0m\n\u001b[0m\u001b[0;32m     23\u001b[0m     \u001b[0mx_train_fold\u001b[0m\u001b[1;33m,\u001b[0m \u001b[0mx_val_fold\u001b[0m \u001b[1;33m=\u001b[0m \u001b[0mx_train\u001b[0m\u001b[1;33m[\u001b[0m\u001b[0mtrain_index\u001b[0m\u001b[1;33m]\u001b[0m\u001b[1;33m,\u001b[0m \u001b[0mx_val\u001b[0m\u001b[1;33m[\u001b[0m\u001b[0mval_index\u001b[0m\u001b[1;33m]\u001b[0m\u001b[1;33m\u001b[0m\u001b[1;33m\u001b[0m\u001b[0m\n\u001b[0;32m     24\u001b[0m     \u001b[0mt_train_fold\u001b[0m\u001b[1;33m,\u001b[0m \u001b[0mt_val_fold\u001b[0m \u001b[1;33m=\u001b[0m \u001b[0mt_train\u001b[0m\u001b[1;33m[\u001b[0m\u001b[0mtrain_index\u001b[0m\u001b[1;33m]\u001b[0m\u001b[1;33m,\u001b[0m \u001b[0mt_train\u001b[0m\u001b[1;33m[\u001b[0m\u001b[0mval_index\u001b[0m\u001b[1;33m]\u001b[0m\u001b[1;33m\u001b[0m\u001b[1;33m\u001b[0m\u001b[0m\n",
      "\u001b[1;32m~\\anaconda3\\envs\\tensorflow\\lib\\site-packages\\sklearn\\model_selection\\_split.py\u001b[0m in \u001b[0;36msplit\u001b[1;34m(self, X, y, groups)\u001b[0m\n\u001b[0;32m    332\u001b[0m                 (\"Cannot have number of splits n_splits={0} greater\"\n\u001b[0;32m    333\u001b[0m                  \" than the number of samples: n_samples={1}.\")\n\u001b[1;32m--> 334\u001b[1;33m                 .format(self.n_splits, n_samples))\n\u001b[0m\u001b[0;32m    335\u001b[0m \u001b[1;33m\u001b[0m\u001b[0m\n\u001b[0;32m    336\u001b[0m         \u001b[1;32mfor\u001b[0m \u001b[0mtrain\u001b[0m\u001b[1;33m,\u001b[0m \u001b[0mtest\u001b[0m \u001b[1;32min\u001b[0m \u001b[0msuper\u001b[0m\u001b[1;33m(\u001b[0m\u001b[1;33m)\u001b[0m\u001b[1;33m.\u001b[0m\u001b[0msplit\u001b[0m\u001b[1;33m(\u001b[0m\u001b[0mX\u001b[0m\u001b[1;33m,\u001b[0m \u001b[0my\u001b[0m\u001b[1;33m,\u001b[0m \u001b[0mgroups\u001b[0m\u001b[1;33m)\u001b[0m\u001b[1;33m:\u001b[0m\u001b[1;33m\u001b[0m\u001b[1;33m\u001b[0m\u001b[0m\n",
      "\u001b[1;31mValueError\u001b[0m: Cannot have number of splits n_splits=3 greater than the number of samples: n_samples=2."
     ]
    }
   ],
   "source": [
    "from sklearn.model_selection import KFold\n",
    "# k폴드 사용해서 마무리 하기\n",
    "k = 3\n",
    "\n",
    "# 학습데이터로 3등분\n",
    "# 1개는 검증셋, 2개는 학습 데이터 셋\n",
    "kfold = KFold(n_splits=k, random_state=777)\n",
    "\n",
    "def get_model():\n",
    "    model = Sequential()\n",
    "\n",
    "    model.add(Dense(64, activation='relu', input_shape=(13,)))\n",
    "    model.add(Dense(32, activation='relu'))\n",
    "    model.add(Dense(1))\n",
    "\n",
    "    model.compile(optimizer='adam', loss='mse', metrics=['mae'])\n",
    "    return model\n",
    "\n",
    "mae_list = [] # 테스트셋을 평가한 뒤 결과 mze를 담을 리스트\n",
    "\n",
    "# k번 진행\n",
    "for train_index, val_index in kfold.split(x_train):\n",
    "    x_train_fold, x_val_fold = x_train[train_index], x_val[val_index]\n",
    "    t_train_fold, t_val_fold = t_train[train_index], t_train[val_index]\n",
    "    \n",
    "    model = get_model()\n",
    "    \n",
    "    model.fit(x_train_fold, t_train_fold, epochs=300,\n",
    "             validation_data=(x_val_fold, t_val_fold))\n",
    "    \n",
    "    _. test_mae = model.evaluate(x_test, t_test)\n",
    "    mae_list.append(x_test, t_test)"
   ]
  }
 ],
 "metadata": {
  "kernelspec": {
   "display_name": "Python 3",
   "language": "python",
   "name": "python3"
  },
  "language_info": {
   "codemirror_mode": {
    "name": "ipython",
    "version": 3
   },
   "file_extension": ".py",
   "mimetype": "text/x-python",
   "name": "python",
   "nbconvert_exporter": "python",
   "pygments_lexer": "ipython3",
   "version": "3.7.9"
  }
 },
 "nbformat": 4,
 "nbformat_minor": 4
}
