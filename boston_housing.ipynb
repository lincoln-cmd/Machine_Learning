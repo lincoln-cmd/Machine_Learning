{
 "cells": [
  {
   "cell_type": "code",
   "execution_count": 13,
   "metadata": {},
   "outputs": [
    {
     "name": "stdout",
     "output_type": "stream",
     "text": [
      "(404, 13) (102, 13)\n",
      "[ 67.14530523  63.67943594  59.46101754  70.40736877  69.92564732\n",
      "  64.2237655   28.01834019  66.73090037  61.34988073 383.81097507\n",
      "  52.09365496 298.93801008  57.9207784 ]\n"
     ]
    }
   ],
   "source": [
    "from tensorflow.keras.datasets.boston_housing import load_data\n",
    "\n",
    "(x_train, t_train), (x_test, t_test) = load_data(path = 'boston_housing.npz',\n",
    "                                               test_split = 0.2,\n",
    "                                               seed = 777)\n",
    "\n",
    "# 데이터 전처리, 검증 데이터 셋 만들기\n",
    "\n",
    "# 모델 구성\n",
    "print(x_train.shape, x_test.shape)\n",
    "import matplotlib.pyplot as plt\n",
    "import numpy as np\n",
    "np.random.seed(777)\n",
    "\n",
    "population_mean = x_train.mean()\n",
    "n = len(x_train)\n",
    "x_train_sum = 0\n",
    "for i in range(n):\n",
    "    x_train_sum += (x_train[i] - population_mean)**2\n",
    "population_variance = x_train_sum / n\n",
    "population_standard = np.sqrt(population_variance)\n",
    "\n",
    "print(population_standard)\n",
    "\n",
    "# 64 -> 32 -> 1\n",
    "\n",
    "\n",
    "# 컴파일(optimizer='adam', loss='mse', metrics=['acc'])\n",
    "\n",
    "\n",
    "# 학습, 평가하기\n"
   ]
  },
  {
   "cell_type": "code",
   "execution_count": 18,
   "metadata": {},
   "outputs": [
    {
     "ename": "ModuleNotFoundError",
     "evalue": "No module named 'sklearn.mode_selection'",
     "output_type": "error",
     "traceback": [
      "\u001b[1;31m---------------------------------------------------------------------------\u001b[0m",
      "\u001b[1;31mModuleNotFoundError\u001b[0m                       Traceback (most recent call last)",
      "\u001b[1;32m<ipython-input-18-ec3552aa6122>\u001b[0m in \u001b[0;36m<module>\u001b[1;34m\u001b[0m\n\u001b[0;32m      6\u001b[0m \u001b[1;33m\u001b[0m\u001b[0m\n\u001b[0;32m      7\u001b[0m \u001b[1;33m\u001b[0m\u001b[0m\n\u001b[1;32m----> 8\u001b[1;33m \u001b[1;32mfrom\u001b[0m \u001b[0msklearn\u001b[0m\u001b[1;33m.\u001b[0m\u001b[0mmode_selection\u001b[0m \u001b[1;32mimport\u001b[0m \u001b[0mtrain_test_split\u001b[0m\u001b[1;33m\u001b[0m\u001b[1;33m\u001b[0m\u001b[0m\n\u001b[0m\u001b[0;32m      9\u001b[0m \u001b[1;33m\u001b[0m\u001b[0m\n\u001b[0;32m     10\u001b[0m x_train, x_val, t_train, t_val = train_test_split(x_train, t_train,\n",
      "\u001b[1;31mModuleNotFoundError\u001b[0m: No module named 'sklearn.mode_selection'"
     ]
    }
   ],
   "source": [
    "mean = np.mean(x_train, axis=0)\n",
    "std = np.std(x_train, axis=0)\n",
    "\n",
    "x_train = (x_train - mean) / std\n",
    "x_test = (x_test - mean) / std\n",
    "\n",
    "\n",
    "from sklearn.mode_selection import train_test_split\n",
    "\n",
    "x_train, x_val, t_train, t_val = train_test_split(x_train, t_train,\n",
    "                                                 test_size=0.33,\n",
    "                                                 random_state = 777)\n",
    "\n",
    "\n",
    "from tensorflow.keras.models import Sequential\n",
    "from tensorflow.keras.layers import Dense\n",
    "\n",
    "model = Seqential()\n",
    "\n",
    "model.add(Dense(64, activation='relu', input_shape=(13,)))\n",
    "model.add(Dense(32, activation='relu'))\n",
    "model.add(Dense(1))\n",
    "\n",
    "model.compile(optimizer='adam', loss='mse', metrics=['mae'])\n",
    "\n",
    "history = model.fit(x_train,t_train, epochs=300,\n",
    "                   validation_data = (x_val, t_val))\n",
    "\n",
    "model.evaluate(x_test, t_test)"
   ]
  }
 ],
 "metadata": {
  "kernelspec": {
   "display_name": "Python 3",
   "language": "python",
   "name": "python3"
  },
  "language_info": {
   "codemirror_mode": {
    "name": "ipython",
    "version": 3
   },
   "file_extension": ".py",
   "mimetype": "text/x-python",
   "name": "python",
   "nbconvert_exporter": "python",
   "pygments_lexer": "ipython3",
   "version": "3.7.9"
  }
 },
 "nbformat": 4,
 "nbformat_minor": 4
}
