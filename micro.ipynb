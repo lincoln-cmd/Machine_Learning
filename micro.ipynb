{
 "cells": [
  {
   "cell_type": "code",
   "execution_count": null,
   "metadata": {},
   "outputs": [],
   "source": [
    "# 라이센스 헤더 : 오픈소스 라이센스, 아무나 이 코드를 사용하거나 공유할 수 있다.\n",
    "# (#include) : C++ 코드를 의존하는 다른 코드를 지정하는 방법\n",
    "\n",
    "# include \"tensorflow/lite/micro/examples/\"\n",
    "\n",
    "# 종속성!\n",
    "# .cc, .h 형식의 파일을 말합니다.\n",
    "# 헤더파일 : 코드가 프로그램의 다른 부분에 연결될 수 있는 인터페이스를 정의합니다.\n",
    "# 변수, 클래스 선언 등은 있지만 논리는 거의 없습니다.\n",
    "# 소스파일은 계산을 수행하고 작업을 수행하는 실제 논리를 구현합니다.\n"
   ]
  },
  {
   "cell_type": "code",
   "execution_count": null,
   "metadata": {},
   "outputs": [],
   "source": [
    "#include \"tensorflow/lite/micro/examples/hello_world/sine_model_data.h\"\n",
    "# - xxd를 사용해서 훈련, 변환하고 C++코드로 바꾼 사인 모델\n",
    "\n",
    "#include \"tensorflow/lite/micro/kernels/all_ops_resolver.h\"\n",
    "# - 인터프리터가 모델에서 사용하는 Op를 로드할 수 있게 하는 클래스\n",
    "# - Op : Tensorflow Operation의 약자입니다. 텐스플로에서 계산을 수행하는 핵심 노드, 운영을 뜻합니다. 일반적인 운영과는 다릅니다.\n",
    "\n",
    "#include \"tensorflow/lite/micro/micro_error_reporter.h\"\n",
    "# - 디버깅을 위해 오류와 출력을 기록하는 클래스\n",
    "\n",
    "#include \"tensorflow/lite/micro/micro_interpreter.h\"\n",
    "# - 모델을 실행할 마이크로컨트롤러용 텐서플로 라이트 입니다.\n",
    "\n",
    "#include \"tensorflow/lite/micro/testing/micro_test.\"\n",
    "# - 테스트 작성을 위한 간단한 프레임워크입니다.\n",
    "# - 이 파일을 실행을 하게 된다면 테스트를 할 수 있습니다.\n",
    "\n",
    "#include \"tensorflow/lite/schema/schema_generated.h\"\n",
    "# - sine_model_data.h의 모델 데이터를 이해하는데 사용되는 텐서플로 라이트 플랫버퍼 데이터 구조를 정리하는 스키마 입니다.\n",
    "\n",
    "#include \"tensorflow/lite/version.h\"\n",
    "# - 스키마의 현재 버전 번호, 모델이 호환 가능한 버전으로 정의되어 있는지 확인할 수 있습니다."
   ]
  },
  {
   "cell_type": "code",
   "execution_count": 4,
   "metadata": {},
   "outputs": [
    {
     "ename": "SyntaxError",
     "evalue": "invalid syntax (<ipython-input-4-0660968499a6>, line 1)",
     "output_type": "error",
     "traceback": [
      "\u001b[1;36m  File \u001b[1;32m\"<ipython-input-4-0660968499a6>\"\u001b[1;36m, line \u001b[1;32m1\u001b[0m\n\u001b[1;33m    tflite::MicroErrorReporter micro_error_reporter:\u001b[0m\n\u001b[1;37m           ^\u001b[0m\n\u001b[1;31mSyntaxError\u001b[0m\u001b[1;31m:\u001b[0m invalid syntax\n"
     ]
    }
   ],
   "source": [
    "tflite::MicroErrorReporter micro_error_reporter:"
   ]
  },
  {
   "cell_type": "code",
   "execution_count": 11,
   "metadata": {},
   "outputs": [],
   "source": [
    "import os\n",
    "os.environ['WANTED_MODES'] = 'yes, no'"
   ]
  }
 ],
 "metadata": {
  "kernelspec": {
   "display_name": "Python 3",
   "language": "python",
   "name": "python3"
  },
  "language_info": {
   "codemirror_mode": {
    "name": "ipython",
    "version": 3
   },
   "file_extension": ".py",
   "mimetype": "text/x-python",
   "name": "python",
   "nbconvert_exporter": "python",
   "pygments_lexer": "ipython3",
   "version": "3.7.9"
  }
 },
 "nbformat": 4,
 "nbformat_minor": 4
}
